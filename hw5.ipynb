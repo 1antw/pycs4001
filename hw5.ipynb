{
  "nbformat": 4,
  "nbformat_minor": 0,
  "metadata": {
    "colab": {
      "name": "hw5.ipynb",
      "provenance": [],
      "collapsed_sections": [],
      "mount_file_id": "13842P6rGKLFbd7gZzxmTdPNWK0C3wgAM",
      "authorship_tag": "ABX9TyMf60DbnuusVuzlipGuewkJ",
      "include_colab_link": true
    },
    "kernelspec": {
      "name": "python3",
      "display_name": "Python 3"
    },
    "language_info": {
      "name": "python"
    }
  },
  "cells": [
    {
      "cell_type": "markdown",
      "metadata": {
        "id": "view-in-github",
        "colab_type": "text"
      },
      "source": [
        "<a href=\"https://colab.research.google.com/github/1antw/pycs4001/blob/main/hw5.ipynb\" target=\"_parent\"><img src=\"https://colab.research.google.com/assets/colab-badge.svg\" alt=\"Open In Colab\"/></a>"
      ]
    },
    {
      "cell_type": "code",
      "execution_count": 4,
      "metadata": {
        "id": "5uzPWw18kDbk"
      },
      "outputs": [],
      "source": [
        "import numpy as np\n",
        "import pandas as pd\n",
        "import matplotlib.pyplot as plt\n",
        "data = pd.read_csv(\"https://raw.githubusercontent.com/1antw/pycs4001/main/coin_Bitcoin.csv\")"
      ]
    },
    {
      "cell_type": "code",
      "source": [
        "#取前五個值\n",
        "print(data.head(5))"
      ],
      "metadata": {
        "id": "WvzIJ-lRl_jf",
        "colab": {
          "base_uri": "https://localhost:8080/"
        },
        "outputId": "8639c89f-36bb-4b7e-83f2-507b7780251a"
      },
      "execution_count": 5,
      "outputs": [
        {
          "output_type": "stream",
          "name": "stdout",
          "text": [
            "   SNo     Name Symbol                 Date        High         Low  \\\n",
            "0    1  Bitcoin    BTC  2013-04-29 23:59:59  147.488007  134.000000   \n",
            "1    2  Bitcoin    BTC  2013-04-30 23:59:59  146.929993  134.050003   \n",
            "2    3  Bitcoin    BTC  2013-05-01 23:59:59  139.889999  107.720001   \n",
            "3    4  Bitcoin    BTC  2013-05-02 23:59:59  125.599998   92.281898   \n",
            "4    5  Bitcoin    BTC  2013-05-03 23:59:59  108.127998   79.099998   \n",
            "\n",
            "         Open       Close  Volume     Marketcap  \n",
            "0  134.444000  144.539993     0.0  1.603769e+09  \n",
            "1  144.000000  139.000000     0.0  1.542813e+09  \n",
            "2  139.000000  116.989998     0.0  1.298955e+09  \n",
            "3  116.379997  105.209999     0.0  1.168517e+09  \n",
            "4  106.250000   97.750000     0.0  1.085995e+09  \n"
          ]
        }
      ]
    },
    {
      "cell_type": "code",
      "source": [
        "#取最後五個值\n",
        "print(data.tail(5))"
      ],
      "metadata": {
        "id": "6kbvKh54o7Kt",
        "colab": {
          "base_uri": "https://localhost:8080/"
        },
        "outputId": "b4c5b738-fb7f-4994-c0cc-cb8fef989822"
      },
      "execution_count": 6,
      "outputs": [
        {
          "output_type": "stream",
          "name": "stdout",
          "text": [
            "       SNo     Name Symbol                 Date          High           Low  \\\n",
            "2986  2987  Bitcoin    BTC  2021-07-02 23:59:59  33939.588699  32770.680780   \n",
            "2987  2988  Bitcoin    BTC  2021-07-03 23:59:59  34909.259899  33402.696536   \n",
            "2988  2989  Bitcoin    BTC  2021-07-04 23:59:59  35937.567147  34396.477458   \n",
            "2989  2990  Bitcoin    BTC  2021-07-05 23:59:59  35284.344430  33213.661034   \n",
            "2990  2991  Bitcoin    BTC  2021-07-06 23:59:59  35038.536363  33599.916169   \n",
            "\n",
            "              Open         Close        Volume     Marketcap  \n",
            "2986  33549.600177  33897.048590  3.872897e+10  6.354508e+11  \n",
            "2987  33854.421362  34668.548402  2.438396e+10  6.499397e+11  \n",
            "2988  34665.564866  35287.779766  2.492431e+10  6.615748e+11  \n",
            "2989  35284.344430  33746.002456  2.672155e+10  6.326962e+11  \n",
            "2990  33723.509655  34235.193451  2.650126e+10  6.418992e+11  \n"
          ]
        }
      ]
    },
    {
      "cell_type": "code",
      "source": [
        "# 取出 column 名稱\n",
        "print(data.columns)"
      ],
      "metadata": {
        "id": "CIRmceOKn8xF",
        "colab": {
          "base_uri": "https://localhost:8080/"
        },
        "outputId": "f93d29bc-73b9-4511-b60d-67ba42c285a2"
      },
      "execution_count": 7,
      "outputs": [
        {
          "output_type": "stream",
          "name": "stdout",
          "text": [
            "Index(['SNo', 'Name', 'Symbol', 'Date', 'High', 'Low', 'Open', 'Close',\n",
            "       'Volume', 'Marketcap'],\n",
            "      dtype='object')\n"
          ]
        }
      ]
    },
    {
      "cell_type": "code",
      "source": [
        "# 取出 Name 的前3個 row\n",
        "print(data[\"Name\"][:3])"
      ],
      "metadata": {
        "id": "P0RYmtpFo8ot",
        "colab": {
          "base_uri": "https://localhost:8080/"
        },
        "outputId": "7b043b91-a0f1-4569-bc41-92aa07940bd5"
      },
      "execution_count": 8,
      "outputs": [
        {
          "output_type": "stream",
          "name": "stdout",
          "text": [
            "0    Bitcoin\n",
            "1    Bitcoin\n",
            "2    Bitcoin\n",
            "Name: Name, dtype: object\n"
          ]
        }
      ]
    },
    {
      "cell_type": "code",
      "source": [
        "# 取出多個 column\n",
        "print(data[[\"Name\", \"High\", \"Low\"]])"
      ],
      "metadata": {
        "id": "xZODGX24o-v3",
        "colab": {
          "base_uri": "https://localhost:8080/"
        },
        "outputId": "7e72f34f-af36-410e-e286-fd091fa9fbbd"
      },
      "execution_count": 9,
      "outputs": [
        {
          "output_type": "stream",
          "name": "stdout",
          "text": [
            "         Name          High           Low\n",
            "0     Bitcoin    147.488007    134.000000\n",
            "1     Bitcoin    146.929993    134.050003\n",
            "2     Bitcoin    139.889999    107.720001\n",
            "3     Bitcoin    125.599998     92.281898\n",
            "4     Bitcoin    108.127998     79.099998\n",
            "...       ...           ...           ...\n",
            "2986  Bitcoin  33939.588699  32770.680780\n",
            "2987  Bitcoin  34909.259899  33402.696536\n",
            "2988  Bitcoin  35937.567147  34396.477458\n",
            "2989  Bitcoin  35284.344430  33213.661034\n",
            "2990  Bitcoin  35038.536363  33599.916169\n",
            "\n",
            "[2991 rows x 3 columns]\n"
          ]
        }
      ]
    },
    {
      "cell_type": "code",
      "source": [
        "# Read row\n",
        "print(data.iloc[0:5, 1:3])\n",
        "print(data.iloc[0,1])"
      ],
      "metadata": {
        "id": "ZqMoxZPuoXK6",
        "colab": {
          "base_uri": "https://localhost:8080/"
        },
        "outputId": "b3883476-62b5-4f01-98ef-0e4019977c2c"
      },
      "execution_count": 10,
      "outputs": [
        {
          "output_type": "stream",
          "name": "stdout",
          "text": [
            "      Name Symbol\n",
            "0  Bitcoin    BTC\n",
            "1  Bitcoin    BTC\n",
            "2  Bitcoin    BTC\n",
            "3  Bitcoin    BTC\n",
            "4  Bitcoin    BTC\n",
            "Bitcoin\n"
          ]
        }
      ]
    },
    {
      "cell_type": "code",
      "source": [
        "# 找尋 Bitcoin Close > 4000\n",
        "print(data.loc[data[\"Close\"] > 4000])"
      ],
      "metadata": {
        "id": "fmU_rPlEpAdG",
        "colab": {
          "base_uri": "https://localhost:8080/"
        },
        "outputId": "0b73d945-772d-4548-c436-03685a66e01e"
      },
      "execution_count": 11,
      "outputs": [
        {
          "output_type": "stream",
          "name": "stdout",
          "text": [
            "       SNo     Name Symbol                 Date          High           Low  \\\n",
            "1567  1568  Bitcoin    BTC  2017-08-13 23:59:59   4208.390137   3857.800049   \n",
            "1568  1569  Bitcoin    BTC  2017-08-14 23:59:59   4325.129883   3989.159912   \n",
            "1569  1570  Bitcoin    BTC  2017-08-15 23:59:59   4455.970215   3906.179932   \n",
            "1570  1571  Bitcoin    BTC  2017-08-16 23:59:59   4381.229980   3994.419922   \n",
            "1571  1572  Bitcoin    BTC  2017-08-17 23:59:59   4484.700195   4243.709961   \n",
            "...    ...      ...    ...                  ...           ...           ...   \n",
            "2986  2987  Bitcoin    BTC  2021-07-02 23:59:59  33939.588699  32770.680780   \n",
            "2987  2988  Bitcoin    BTC  2021-07-03 23:59:59  34909.259899  33402.696536   \n",
            "2988  2989  Bitcoin    BTC  2021-07-04 23:59:59  35937.567147  34396.477458   \n",
            "2989  2990  Bitcoin    BTC  2021-07-05 23:59:59  35284.344430  33213.661034   \n",
            "2990  2991  Bitcoin    BTC  2021-07-06 23:59:59  35038.536363  33599.916169   \n",
            "\n",
            "              Open         Close        Volume     Marketcap  \n",
            "1567   3880.040039   4073.260010  3.159090e+09  6.723053e+10  \n",
            "1568   4066.100098   4325.129883  2.463090e+09  7.139470e+10  \n",
            "1569   4326.990234   4181.930176  3.258050e+09  6.903886e+10  \n",
            "1570   4200.339844   4376.629883  2.272040e+09  7.226018e+10  \n",
            "1571   4384.439941   4331.689941  2.553360e+09  7.152795e+10  \n",
            "...            ...           ...           ...           ...  \n",
            "2986  33549.600177  33897.048590  3.872897e+10  6.354508e+11  \n",
            "2987  33854.421362  34668.548402  2.438396e+10  6.499397e+11  \n",
            "2988  34665.564866  35287.779766  2.492431e+10  6.615748e+11  \n",
            "2989  35284.344430  33746.002456  2.672155e+10  6.326962e+11  \n",
            "2990  33723.509655  34235.193451  2.650126e+10  6.418992e+11  \n",
            "\n",
            "[1312 rows x 10 columns]\n"
          ]
        }
      ]
    },
    {
      "cell_type": "code",
      "source": [
        "# Describing / Sorting / Sum / Drop\n",
        "print(data.describe())\n",
        "print(data.sort_values([\"Close\"], ascending=True))\n",
        " \n",
        "data[\"High\"] = data.iloc[:, 4:10].sum(axis=1)\n",
        "print(data)\n",
        "data = data.drop(columns=[\"Symbol\"])\n",
        "print(data)"
      ],
      "metadata": {
        "id": "j2SlafpYtNoP",
        "colab": {
          "base_uri": "https://localhost:8080/"
        },
        "outputId": "afe371dc-2689-4d84-8e29-ab6f7c0110f0"
      },
      "execution_count": 12,
      "outputs": [
        {
          "output_type": "stream",
          "name": "stdout",
          "text": [
            "               SNo          High           Low          Open         Close  \\\n",
            "count  2991.000000   2991.000000   2991.000000   2991.000000   2991.000000   \n",
            "mean   1496.000000   6893.326038   6486.009539   6700.146240   6711.290443   \n",
            "std     863.571653  11642.832456  10869.032130  11288.043736  11298.141921   \n",
            "min       1.000000     74.561096     65.526001     68.504997     68.431000   \n",
            "25%     748.500000    436.179001    422.879486    430.445496    430.569489   \n",
            "50%    1496.000000   2387.610107   2178.500000   2269.889893   2286.409912   \n",
            "75%    2243.500000   8733.926948   8289.800459   8569.656494   8576.238715   \n",
            "max    2991.000000  64863.098908  62208.964366  63523.754869  63503.457930   \n",
            "\n",
            "             Volume     Marketcap  \n",
            "count  2.991000e+03  2.991000e+03  \n",
            "mean   1.090633e+10  1.208761e+11  \n",
            "std    1.888895e+10  2.109438e+11  \n",
            "min    0.000000e+00  7.784112e+08  \n",
            "25%    3.036725e+07  6.305579e+09  \n",
            "50%    9.460360e+08  3.741503e+10  \n",
            "75%    1.592015e+10  1.499957e+11  \n",
            "max    3.509679e+11  1.186364e+12  \n",
            "       SNo     Name Symbol                 Date          High           Low  \\\n",
            "67      68  Bitcoin    BTC  2013-07-05 23:59:59     80.000000     65.526001   \n",
            "68      69  Bitcoin    BTC  2013-07-06 23:59:59     75.000000     66.820000   \n",
            "69      70  Bitcoin    BTC  2013-07-07 23:59:59     74.561096     66.620003   \n",
            "70      71  Bitcoin    BTC  2013-07-08 23:59:59     80.000000     72.599998   \n",
            "71      72  Bitcoin    BTC  2013-07-09 23:59:59     78.300003     72.519997   \n",
            "...    ...      ...    ...                  ...           ...           ...   \n",
            "2875  2876  Bitcoin    BTC  2021-03-13 23:59:59  61683.864014  56217.972382   \n",
            "2909  2910  Bitcoin    BTC  2021-04-16 23:59:59  63594.720913  60222.532079   \n",
            "2907  2908  Bitcoin    BTC  2021-04-14 23:59:59  64863.098908  61554.796690   \n",
            "2908  2909  Bitcoin    BTC  2021-04-15 23:59:59  63821.672193  62208.964366   \n",
            "2906  2907  Bitcoin    BTC  2021-04-13 23:59:59  63742.283337  59869.956293   \n",
            "\n",
            "              Open         Close        Volume     Marketcap  \n",
            "67       79.989998     68.431000  0.000000e+00  7.784112e+08  \n",
            "68       68.504997     70.277298  0.000000e+00  7.997416e+08  \n",
            "69       68.749001     74.561096  0.000000e+00  8.488390e+08  \n",
            "70       76.500000     76.515999  0.000000e+00  8.714579e+08  \n",
            "71       76.000000     76.694000  0.000000e+00  8.738418e+08  \n",
            "...            ...           ...           ...           ...  \n",
            "2875  57343.370247  61243.084766  6.066983e+10  1.142369e+12  \n",
            "2909  63258.505174  61572.789601  8.429301e+10  1.150457e+12  \n",
            "2907  63523.754869  63109.695935  7.745178e+10  1.179061e+12  \n",
            "2908  63075.196221  63314.010845  6.095438e+10  1.182945e+12  \n",
            "2906  59890.017790  63503.457930  6.998345e+10  1.186364e+12  \n",
            "\n",
            "[2991 rows x 10 columns]\n",
            "       SNo     Name Symbol                 Date          High           Low  \\\n",
            "0        1  Bitcoin    BTC  2013-04-29 23:59:59  1.603769e+09    134.000000   \n",
            "1        2  Bitcoin    BTC  2013-04-30 23:59:59  1.542814e+09    134.050003   \n",
            "2        3  Bitcoin    BTC  2013-05-01 23:59:59  1.298955e+09    107.720001   \n",
            "3        4  Bitcoin    BTC  2013-05-02 23:59:59  1.168518e+09     92.281898   \n",
            "4        5  Bitcoin    BTC  2013-05-03 23:59:59  1.085996e+09     79.099998   \n",
            "...    ...      ...    ...                  ...           ...           ...   \n",
            "2986  2987  Bitcoin    BTC  2021-07-02 23:59:59  6.741799e+11  32770.680780   \n",
            "2987  2988  Bitcoin    BTC  2021-07-03 23:59:59  6.743238e+11  33402.696536   \n",
            "2988  2989  Bitcoin    BTC  2021-07-04 23:59:59  6.864993e+11  34396.477458   \n",
            "2989  2990  Bitcoin    BTC  2021-07-05 23:59:59  6.594179e+11  33213.661034   \n",
            "2990  2991  Bitcoin    BTC  2021-07-06 23:59:59  6.684006e+11  33599.916169   \n",
            "\n",
            "              Open         Close        Volume     Marketcap  \n",
            "0       134.444000    144.539993  0.000000e+00  1.603769e+09  \n",
            "1       144.000000    139.000000  0.000000e+00  1.542813e+09  \n",
            "2       139.000000    116.989998  0.000000e+00  1.298955e+09  \n",
            "3       116.379997    105.209999  0.000000e+00  1.168517e+09  \n",
            "4       106.250000     97.750000  0.000000e+00  1.085995e+09  \n",
            "...            ...           ...           ...           ...  \n",
            "2986  33549.600177  33897.048590  3.872897e+10  6.354508e+11  \n",
            "2987  33854.421362  34668.548402  2.438396e+10  6.499397e+11  \n",
            "2988  34665.564866  35287.779766  2.492431e+10  6.615748e+11  \n",
            "2989  35284.344430  33746.002456  2.672155e+10  6.326962e+11  \n",
            "2990  33723.509655  34235.193451  2.650126e+10  6.418992e+11  \n",
            "\n",
            "[2991 rows x 10 columns]\n",
            "       SNo     Name                 Date          High           Low  \\\n",
            "0        1  Bitcoin  2013-04-29 23:59:59  1.603769e+09    134.000000   \n",
            "1        2  Bitcoin  2013-04-30 23:59:59  1.542814e+09    134.050003   \n",
            "2        3  Bitcoin  2013-05-01 23:59:59  1.298955e+09    107.720001   \n",
            "3        4  Bitcoin  2013-05-02 23:59:59  1.168518e+09     92.281898   \n",
            "4        5  Bitcoin  2013-05-03 23:59:59  1.085996e+09     79.099998   \n",
            "...    ...      ...                  ...           ...           ...   \n",
            "2986  2987  Bitcoin  2021-07-02 23:59:59  6.741799e+11  32770.680780   \n",
            "2987  2988  Bitcoin  2021-07-03 23:59:59  6.743238e+11  33402.696536   \n",
            "2988  2989  Bitcoin  2021-07-04 23:59:59  6.864993e+11  34396.477458   \n",
            "2989  2990  Bitcoin  2021-07-05 23:59:59  6.594179e+11  33213.661034   \n",
            "2990  2991  Bitcoin  2021-07-06 23:59:59  6.684006e+11  33599.916169   \n",
            "\n",
            "              Open         Close        Volume     Marketcap  \n",
            "0       134.444000    144.539993  0.000000e+00  1.603769e+09  \n",
            "1       144.000000    139.000000  0.000000e+00  1.542813e+09  \n",
            "2       139.000000    116.989998  0.000000e+00  1.298955e+09  \n",
            "3       116.379997    105.209999  0.000000e+00  1.168517e+09  \n",
            "4       106.250000     97.750000  0.000000e+00  1.085995e+09  \n",
            "...            ...           ...           ...           ...  \n",
            "2986  33549.600177  33897.048590  3.872897e+10  6.354508e+11  \n",
            "2987  33854.421362  34668.548402  2.438396e+10  6.499397e+11  \n",
            "2988  34665.564866  35287.779766  2.492431e+10  6.615748e+11  \n",
            "2989  35284.344430  33746.002456  2.672155e+10  6.326962e+11  \n",
            "2990  33723.509655  34235.193451  2.650126e+10  6.418992e+11  \n",
            "\n",
            "[2991 rows x 9 columns]\n"
          ]
        }
      ]
    },
    {
      "cell_type": "code",
      "source": [
        "# to csv\n",
        "data.to_csv(\"new_crypto_price.csv\", index=False)"
      ],
      "metadata": {
        "id": "GqgcXJ-Kt3Qx"
      },
      "execution_count": 13,
      "outputs": []
    },
    {
      "cell_type": "code",
      "source": [
        "# Filtering\n",
        "print(data.loc[(data[\"Name\"] == \"Bitcoin\") & (data[\"SNo\"] == \"1\")])\n",
        "new_data = data.loc[(data[\"Name\"] == \"Bitcoin\")]\n",
        "print(new_data)\n",
        "new_data = new_data.reset_index(drop=True)\n",
        "print(new_data)"
      ],
      "metadata": {
        "id": "qYZW3oS5t-Zz",
        "colab": {
          "base_uri": "https://localhost:8080/"
        },
        "outputId": "2a2abeb0-1d36-45e1-f54e-2d92b6f1b0e0"
      },
      "execution_count": 14,
      "outputs": [
        {
          "output_type": "stream",
          "name": "stdout",
          "text": [
            "Empty DataFrame\n",
            "Columns: [SNo, Name, Date, High, Low, Open, Close, Volume, Marketcap]\n",
            "Index: []\n",
            "       SNo     Name                 Date          High           Low  \\\n",
            "0        1  Bitcoin  2013-04-29 23:59:59  1.603769e+09    134.000000   \n",
            "1        2  Bitcoin  2013-04-30 23:59:59  1.542814e+09    134.050003   \n",
            "2        3  Bitcoin  2013-05-01 23:59:59  1.298955e+09    107.720001   \n",
            "3        4  Bitcoin  2013-05-02 23:59:59  1.168518e+09     92.281898   \n",
            "4        5  Bitcoin  2013-05-03 23:59:59  1.085996e+09     79.099998   \n",
            "...    ...      ...                  ...           ...           ...   \n",
            "2986  2987  Bitcoin  2021-07-02 23:59:59  6.741799e+11  32770.680780   \n",
            "2987  2988  Bitcoin  2021-07-03 23:59:59  6.743238e+11  33402.696536   \n",
            "2988  2989  Bitcoin  2021-07-04 23:59:59  6.864993e+11  34396.477458   \n",
            "2989  2990  Bitcoin  2021-07-05 23:59:59  6.594179e+11  33213.661034   \n",
            "2990  2991  Bitcoin  2021-07-06 23:59:59  6.684006e+11  33599.916169   \n",
            "\n",
            "              Open         Close        Volume     Marketcap  \n",
            "0       134.444000    144.539993  0.000000e+00  1.603769e+09  \n",
            "1       144.000000    139.000000  0.000000e+00  1.542813e+09  \n",
            "2       139.000000    116.989998  0.000000e+00  1.298955e+09  \n",
            "3       116.379997    105.209999  0.000000e+00  1.168517e+09  \n",
            "4       106.250000     97.750000  0.000000e+00  1.085995e+09  \n",
            "...            ...           ...           ...           ...  \n",
            "2986  33549.600177  33897.048590  3.872897e+10  6.354508e+11  \n",
            "2987  33854.421362  34668.548402  2.438396e+10  6.499397e+11  \n",
            "2988  34665.564866  35287.779766  2.492431e+10  6.615748e+11  \n",
            "2989  35284.344430  33746.002456  2.672155e+10  6.326962e+11  \n",
            "2990  33723.509655  34235.193451  2.650126e+10  6.418992e+11  \n",
            "\n",
            "[2991 rows x 9 columns]\n",
            "       SNo     Name                 Date          High           Low  \\\n",
            "0        1  Bitcoin  2013-04-29 23:59:59  1.603769e+09    134.000000   \n",
            "1        2  Bitcoin  2013-04-30 23:59:59  1.542814e+09    134.050003   \n",
            "2        3  Bitcoin  2013-05-01 23:59:59  1.298955e+09    107.720001   \n",
            "3        4  Bitcoin  2013-05-02 23:59:59  1.168518e+09     92.281898   \n",
            "4        5  Bitcoin  2013-05-03 23:59:59  1.085996e+09     79.099998   \n",
            "...    ...      ...                  ...           ...           ...   \n",
            "2986  2987  Bitcoin  2021-07-02 23:59:59  6.741799e+11  32770.680780   \n",
            "2987  2988  Bitcoin  2021-07-03 23:59:59  6.743238e+11  33402.696536   \n",
            "2988  2989  Bitcoin  2021-07-04 23:59:59  6.864993e+11  34396.477458   \n",
            "2989  2990  Bitcoin  2021-07-05 23:59:59  6.594179e+11  33213.661034   \n",
            "2990  2991  Bitcoin  2021-07-06 23:59:59  6.684006e+11  33599.916169   \n",
            "\n",
            "              Open         Close        Volume     Marketcap  \n",
            "0       134.444000    144.539993  0.000000e+00  1.603769e+09  \n",
            "1       144.000000    139.000000  0.000000e+00  1.542813e+09  \n",
            "2       139.000000    116.989998  0.000000e+00  1.298955e+09  \n",
            "3       116.379997    105.209999  0.000000e+00  1.168517e+09  \n",
            "4       106.250000     97.750000  0.000000e+00  1.085995e+09  \n",
            "...            ...           ...           ...           ...  \n",
            "2986  33549.600177  33897.048590  3.872897e+10  6.354508e+11  \n",
            "2987  33854.421362  34668.548402  2.438396e+10  6.499397e+11  \n",
            "2988  34665.564866  35287.779766  2.492431e+10  6.615748e+11  \n",
            "2989  35284.344430  33746.002456  2.672155e+10  6.326962e+11  \n",
            "2990  33723.509655  34235.193451  2.650126e+10  6.418992e+11  \n",
            "\n",
            "[2991 rows x 9 columns]\n"
          ]
        }
      ]
    },
    {
      "cell_type": "code",
      "source": [
        "# groupby\n",
        "print(data.groupby([\"Close\"]).mean())\n",
        "print(data.groupby([\"Close\"]).std())\n",
        "print(data.groupby([\"Close\"]).sum())\n"
      ],
      "metadata": {
        "id": "FpX3x0rYvMG0",
        "colab": {
          "base_uri": "https://localhost:8080/"
        },
        "outputId": "1cc77c8e-a3d9-40f0-908c-cb22f45975f1"
      },
      "execution_count": 15,
      "outputs": [
        {
          "output_type": "stream",
          "name": "stdout",
          "text": [
            "                 SNo          High           Low          Open        Volume  \\\n",
            "Close                                                                          \n",
            "68.431000       68.0  7.784115e+08     65.526001     79.989998  0.000000e+00   \n",
            "70.277298       69.0  7.997419e+08     66.820000     68.504997  0.000000e+00   \n",
            "74.561096       70.0  8.488393e+08     66.620003     68.749001  0.000000e+00   \n",
            "76.515999       71.0  8.714582e+08     72.599998     76.500000  0.000000e+00   \n",
            "76.694000       72.0  8.738422e+08     72.519997     76.000000  0.000000e+00   \n",
            "...              ...           ...           ...           ...           ...   \n",
            "61243.084766  2876.0  1.203039e+12  56217.972382  57343.370247  6.066983e+10   \n",
            "61572.789601  2910.0  1.234750e+12  60222.532079  63258.505174  8.429301e+10   \n",
            "63109.695935  2908.0  1.256513e+12  61554.796690  63523.754869  7.745178e+10   \n",
            "63314.010845  2909.0  1.243900e+12  62208.964366  63075.196221  6.095438e+10   \n",
            "63503.457930  2907.0  1.256348e+12  59869.956293  59890.017790  6.998345e+10   \n",
            "\n",
            "                 Marketcap  \n",
            "Close                       \n",
            "68.431000     7.784112e+08  \n",
            "70.277298     7.997416e+08  \n",
            "74.561096     8.488390e+08  \n",
            "76.515999     8.714579e+08  \n",
            "76.694000     8.738418e+08  \n",
            "...                    ...  \n",
            "61243.084766  1.142369e+12  \n",
            "61572.789601  1.150457e+12  \n",
            "63109.695935  1.179061e+12  \n",
            "63314.010845  1.182945e+12  \n",
            "63503.457930  1.186364e+12  \n",
            "\n",
            "[2978 rows x 6 columns]\n",
            "              SNo  High  Low  Open  Volume  Marketcap\n",
            "Close                                                \n",
            "68.431000     NaN   NaN  NaN   NaN     NaN        NaN\n",
            "70.277298     NaN   NaN  NaN   NaN     NaN        NaN\n",
            "74.561096     NaN   NaN  NaN   NaN     NaN        NaN\n",
            "76.515999     NaN   NaN  NaN   NaN     NaN        NaN\n",
            "76.694000     NaN   NaN  NaN   NaN     NaN        NaN\n",
            "...           ...   ...  ...   ...     ...        ...\n",
            "61243.084766  NaN   NaN  NaN   NaN     NaN        NaN\n",
            "61572.789601  NaN   NaN  NaN   NaN     NaN        NaN\n",
            "63109.695935  NaN   NaN  NaN   NaN     NaN        NaN\n",
            "63314.010845  NaN   NaN  NaN   NaN     NaN        NaN\n",
            "63503.457930  NaN   NaN  NaN   NaN     NaN        NaN\n",
            "\n",
            "[2978 rows x 6 columns]\n",
            "               SNo          High           Low          Open        Volume  \\\n",
            "Close                                                                        \n",
            "68.431000       68  7.784115e+08     65.526001     79.989998  0.000000e+00   \n",
            "70.277298       69  7.997419e+08     66.820000     68.504997  0.000000e+00   \n",
            "74.561096       70  8.488393e+08     66.620003     68.749001  0.000000e+00   \n",
            "76.515999       71  8.714582e+08     72.599998     76.500000  0.000000e+00   \n",
            "76.694000       72  8.738422e+08     72.519997     76.000000  0.000000e+00   \n",
            "...            ...           ...           ...           ...           ...   \n",
            "61243.084766  2876  1.203039e+12  56217.972382  57343.370247  6.066983e+10   \n",
            "61572.789601  2910  1.234750e+12  60222.532079  63258.505174  8.429301e+10   \n",
            "63109.695935  2908  1.256513e+12  61554.796690  63523.754869  7.745178e+10   \n",
            "63314.010845  2909  1.243900e+12  62208.964366  63075.196221  6.095438e+10   \n",
            "63503.457930  2907  1.256348e+12  59869.956293  59890.017790  6.998345e+10   \n",
            "\n",
            "                 Marketcap  \n",
            "Close                       \n",
            "68.431000     7.784112e+08  \n",
            "70.277298     7.997416e+08  \n",
            "74.561096     8.488390e+08  \n",
            "76.515999     8.714579e+08  \n",
            "76.694000     8.738418e+08  \n",
            "...                    ...  \n",
            "61243.084766  1.142369e+12  \n",
            "61572.789601  1.150457e+12  \n",
            "63109.695935  1.179061e+12  \n",
            "63314.010845  1.182945e+12  \n",
            "63503.457930  1.186364e+12  \n",
            "\n",
            "[2978 rows x 6 columns]\n"
          ]
        }
      ]
    },
    {
      "cell_type": "code",
      "source": [
        "# matplotlib\n",
        "x = np.array(data[\"SNo\"])\n",
        "y = np.array(data[\"Close\"])\n",
        "plt.plot(x, y, label='A', color = 'red', marker = '*', markersize = 6, linestyle = '--')\n",
        "plt.title(\"BTC_price\", fontdict={'fontname': 'Arial Black', 'fontsize': 16})\n",
        "plt.xlabel(\"SNo\", fontdict={'fontname': 'Arial'})\n",
        "plt.ylabel(\"Close price\", fontdict={'fontname': 'Arial'})\n",
        "plt.legend()\n",
        "plt.savefig(\"BTC_price\")\n",
        "plt.show()\n"
      ],
      "metadata": {
        "id": "CKh642VyvZhz",
        "colab": {
          "base_uri": "https://localhost:8080/",
          "height": 332
        },
        "outputId": "b6d79f89-6f0e-4b7d-aa9c-8884a1b9bfc8"
      },
      "execution_count": 16,
      "outputs": [
        {
          "output_type": "stream",
          "name": "stderr",
          "text": [
            "findfont: Font family ['Arial Black'] not found. Falling back to DejaVu Sans.\n",
            "findfont: Font family ['Arial'] not found. Falling back to DejaVu Sans.\n"
          ]
        },
        {
          "output_type": "display_data",
          "data": {
            "text/plain": [
              "<Figure size 432x288 with 1 Axes>"
            ],
            "image/png": "[encoded data removed]"
          },
          "metadata": {
            "needs_background": "light"
          }
        }
      ]
    }
  ]
}