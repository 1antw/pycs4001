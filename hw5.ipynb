{
  "nbformat": 4,
  "nbformat_minor": 0,
  "metadata": {
    "colab": {
      "name": "hw5.ipynb",
      "provenance": [],
      "collapsed_sections": [],
      "mount_file_id": "13842P6rGKLFbd7gZzxmTdPNWK0C3wgAM",
      "authorship_tag": "ABX9TyNbU3lFHEdJSUNytlruWDtx",
      "include_colab_link": true
    },
    "kernelspec": {
      "name": "python3",
      "display_name": "Python 3"
    },
    "language_info": {
      "name": "python"
    }
  },
  "cells": [
    {
      "cell_type": "markdown",
      "metadata": {
        "id": "view-in-github",
        "colab_type": "text"
      },
      "source": [
        "<a href=\"https://colab.research.google.com/github/1antw/pycs4001/blob/main/hw5.ipynb\" target=\"_parent\"><img src=\"https://colab.research.google.com/assets/colab-badge.svg\" alt=\"Open In Colab\"/></a>"
      ]
    },
    {
      "cell_type": "code",
      "execution_count": 45,
      "metadata": {
        "id": "5uzPWw18kDbk"
      },
      "outputs": [],
      "source": [
        "import numpy as np\n",
        "import pandas as pd\n",
        "import matplotlib.pyplot as plt\n",
        "data = pd.read_csv(\"https://raw.githubusercontent.com/1antw/pycs4001/main/coin_Bitcoin.csv")"
      ]
    },
    {
      "cell_type": "code",
      "source": [
        "#取前五個值\n",
        "print(data.head(5))"
      ],
      "metadata": {
        "id": "WvzIJ-lRl_jf"
      },
      "execution_count": null,
      "outputs": []
    },
    {
      "cell_type": "code",
      "source": [
        "#取最後五個值\n",
        "print(data.tail(5))"
      ],
      "metadata": {
        "id": "6kbvKh54o7Kt"
      },
      "execution_count": null,
      "outputs": []
    },
    {
      "cell_type": "code",
      "source": [
        "# 取出 column 名稱\n",
        "print(data.columns)"
      ],
      "metadata": {
        "id": "CIRmceOKn8xF"
      },
      "execution_count": null,
      "outputs": []
    },
    {
      "cell_type": "code",
      "source": [
        "# 取出 Name 的前3個 row\n",
        "print(data[\"Name\"][:3])"
      ],
      "metadata": {
        "id": "P0RYmtpFo8ot"
      },
      "execution_count": null,
      "outputs": []
    },
    {
      "cell_type": "code",
      "source": [
        "# 取出多個 column\n",
        "print(data[[\"Name\", \"High\", \"Low\"]])"
      ],
      "metadata": {
        "id": "xZODGX24o-v3"
      },
      "execution_count": null,
      "outputs": []
    },
    {
      "cell_type": "code",
      "source": [
        "# Read row\n",
        "print(data.iloc[0:5, 1:3])\n",
        "print(data.iloc[0,1])"
      ],
      "metadata": {
        "id": "ZqMoxZPuoXK6"
      },
      "execution_count": null,
      "outputs": []
    },
    {
      "cell_type": "code",
      "source": [
        "# 找尋 Bitcoin Close > 4000\n",
        "print(data.loc[data[\"Close\"] > 4000])"
      ],
      "metadata": {
        "id": "fmU_rPlEpAdG"
      },
      "execution_count": null,
      "outputs": []
    },
    {
      "cell_type": "code",
      "source": [
        "# Describing / Sorting / Sum / Drop\n",
        "print(data.describe())\n",
        "print(data.sort_values([\"Close\"], ascending=True))\n",
        " \n",
        "data[\"High\"] = data.iloc[:, 4:10].sum(axis=1)\n",
        "print(data)\n",
        "data = data.drop(columns=[\"Symbol\"])\n",
        "print(data)"
      ],
      "metadata": {
        "id": "j2SlafpYtNoP"
      },
      "execution_count": null,
      "outputs": []
    },
    {
      "cell_type": "code",
      "source": [
        "# to csv\n",
        "data.to_csv(\"new_crypto_price.csv\", index=False)"
      ],
      "metadata": {
        "id": "GqgcXJ-Kt3Qx"
      },
      "execution_count": 54,
      "outputs": []
    },
    {
      "cell_type": "code",
      "source": [
        "# Filtering\n",
        "print(data.loc[(data[\"Name\"] == \"Bitcoin\") & (data[\"SNo\"] == \"1\")])\n",
        "new_data = data.loc[(data[\"Name\"] == \"Bitcoin\")]\n",
        "print(new_data)\n",
        "new_data = new_data.reset_index(drop=True)\n",
        "print(new_data)"
      ],
      "metadata": {
        "id": "qYZW3oS5t-Zz"
      },
      "execution_count": null,
      "outputs": []
    },
    {
      "cell_type": "code",
      "source": [
        "# groupby\n",
        "print(data.groupby([\"Close\"]).mean())\n",
        "print(data.groupby([\"Close\"]).std())\n",
        "print(data.groupby([\"Close\"]).sum())\n"
      ],
      "metadata": {
        "id": "FpX3x0rYvMG0"
      },
      "execution_count": null,
      "outputs": []
    },
    {
      "cell_type": "code",
      "source": [
        "# matplotlib\n",
        "x = np.array(data[\"SNo\"])\n",
        "y = np.array(data[\"Close\"])\n",
        "plt.plot(x, y, label='A', color = 'red', marker = '*', markersize = 6, linestyle = '--')\n",
        "plt.title(\"BTC_price\", fontdict={'fontname': 'Arial Black', 'fontsize': 16})\n",
        "plt.xlabel(\"SNo\", fontdict={'fontname': 'Arial'})\n",
        "plt.ylabel(\"Close price\", fontdict={'fontname': 'Arial'})\n",
        "plt.legend()\n",
        "plt.savefig(\"BTC_price\")\n",
        "plt.show()\n"
      ],
      "metadata": {
        "colab": {
          "base_uri": "https://localhost:8080/",
          "height": 297
        },
        "id": "CKh642VyvZhz",
        "outputId": "7767c0e3-5db2-4211-ec19-3b8a3bcc2001"
      },
      "execution_count": 62,
      "outputs": [
        {
          "output_type": "display_data",
          "data": {
            "text/plain": [
              "<Figure size 432x288 with 1 Axes>"
            ],
            "image/png": "iVBORw0KGgoAAAANSUhEUgAAAZEAAAEYCAYAAACdnstHAAAABHNCSVQICAgIfAhkiAAAAAlwSFlzAAALEgAACxIB0t1+/AAAADh0RVh0U29mdHdhcmUAbWF0cGxvdGxpYiB2ZXJzaW9uMy4yLjIsIGh0dHA6Ly9tYXRwbG90bGliLm9yZy+WH4yJAAAgAElEQVR4nO3deZzV9X3v8deHYRsX4obkwGCAiEn0RgEniomJRq8IJnHJoihRYlOJkkTb3MaQtI252vSmrbWtKXJLYyo2BjQGokkxSlGv5va6DAEX4kZmIA6OiEBUDOvwuX98v8c5czj7nHXm/Xw8zuP8ft/fcr4/D57PfHdzd0REREoxqNYZEBGRxqUgIiIiJVMQERGRkimIiIhIyRRERESkZAoiIiJSMgURGXDM7Atm5imvbjPbaGZ3mdn74jlewGt9yj1Pide/Yma7zWyLma0ws9lm1lTFZzs95u30an2mDGyDa50BkRr6HNAJNAHvBf4SWGlmxwGnpJ27DHgK+E5K2i4AM/sT4CbgQeAbwAbgUGAasAD4PXBPpR4iza8Jef9NlT5PBjgFERnI1rj7urj9f83sFWAF8GF3vy/1RDPbBbzu7o+lpX+MEED+2d2vTrv/PWZ2E3BgZbLfKx9NgLn7m8Bj+c4XKRdVZ4n0eDO+Dynimm8AW4FrMx1099+6+9OF3CilKuozZnabmW0zszfN7A4zOzztXDez75rZPDPrAHYDH8xWnWVmF5jZ/zWz7fGeT5jZuSnHB5vZN83seTPbFavl/t7Mhhfx30IGIJVEZCBrMrPBhOqsCcBfA68BDxdycfzr/+PAz9x9Zxnz9Y/AfwIXAxNjvkbHz0r1BaAd+DPgbeAV4F0Z8vlV4GbgZ8BsYDswBRiXctqPgE8BfwP8F/AB4IZ4zmfK8EzSTymIyED2fNr+K8AnY5VQIY4AmgltIOW01t0vj9u/NLOtwI/M7Ex3X5lyngHT3H3HOwlmH0i9kZmNIAShZe7+6ZRD96ec81HgImC2u98ek/8z5XMnufuasj2d9CuqzpKB7ALgQ8BJwPmExujl6T/ENXBX2v5PgH3s39j/y9QAksWHgYOAhTnOmU6oDrs7VmsNjiW0B+LxjxWWbRmIVBKRgezZlIZ1zOwB4GVCD6yLCrh+C7ADeE+Z87Updcfdd5vZNmBM2nldBdwr2ZbSmeOcI4GhhCqxXPcQ2Y+CiEjk7jvMrB04vsDz95rZw8BZZjbM3XeVKSujUnfMbCihy/DG9CwUcK/X4/sY4Nks52wBdgIfzXL8lQI+RwYoVWeJRGZ2AGG8yOYiLvse4S/1v81yz/FmVlBQSnFh2v7nCP+v/r8i7wOhkXw7MCfHOb8EhgPvcve2DC8FEclKJREZyCaZ2RGEBuoE8BXgMOD7hd7A3R8xs68BN5nZscBtwO8IJYczgT8GLgEK6uYbHWdm/wYsAY4Bvgs8nNaoXmj+3jKzbwLfN7OfAncAbwGTgJ3u/n13f9jMFhPaRG4CniC0wYwDzgG+4e4vFvvZMjAoiMhA9pOU7c2E6p7p7n5/lvMzcvd/NLMngD8FbiT02noLaAO+BPy8yHxdA5wL3EnofvxzIH0gYzH5+2czexX4OiGI7AGeI3ThTfo88FXgj4A/J4zGX0/oxdWrjUYklWl5XJH6EAcIPgSc5e7/WePsiBREbSIiIlIyVWeJVEEcd5FLd1UyIlJmCiIi1bEnz/HL3f02QiO/SMNQEBGpjg/lOd5RlVyIlNmAa1g/4ogjfNy4cbXOhohIw1i1atXr7j4y07EBVxIZN24cbW1ttc6GiEjDMLOsk4yqd5aIiJRMQUREREqmICIiIiUbcG0imezZs4fOzk527izn4nTlNXz4cFpaWhgypJiVW0VEKktBBOjs7OTggw9m3LhxmNVfN313Z8uWLXR2djJ+/PhaZ0dE5B2qzgJ27tzJ4YcfXpcBBMDMOPzww+u6pCQiNdTVBaedBq++WvWPVhCJ6jWAJNV7/kSkhq6+Gh55BK65puofrSAiItKompvBDO6+O+zfdVfYb26uWhYUROrIz372M8yM559/vtZZEZFGkK2Ku4pV3woipapAHeTixYs59dRTWbx4cdnuKSL92OrVcMABvdMOOgieeqpqWVAQKdUNN8CvfgXXX1+W223fvp1f/epX3HrrrSxZsqQs9xSRfm7SpP3TzOD446uWBXXxzeT00/dPu/BCmDs31DWmFhUXLAivIUNg9254/XX47Gd7X/vww3k/8p577mH69Okcc8wxHH744axatYoTTzyxT48hIgPAiBHh1dwcfofeequqH6+SSLGefRaOPBIGxf90gwaF/b/7uz7ddvHixcycOROAmTNnqkpLRLJLrU7v6oK334aODjjzTHjllapmZcBNBd/a2urps/g+99xzfOADHyj8JlddBQsXwtChofTxpS/BLbeUnKetW7fS0tLCyJEjMTO6u7sxMzZs2NCra2/R+RSR/mnuXPiXfwlVV90ZFsUcPhx27Cjbx5nZKndvzXRMJZFSbNoEV14Jjz0W3vvYuH733Xdz6aWXsmHDBtavX8/LL7/M+PHjefTRR8uUYRHpF5JdehcsgH379g8gzc0wa1YolVSJgkgpli6F+fPhhBPC+9Klfbrd4sWLueCCC3qlfeYzn1GVloj01t4Ol1wSakEAhg2Dlpae4zt2hPaRd7+7almqaBAxs0PM7G4ze97MnjOzU8zsMDNbYWYvxfdD47lmZjeb2Toze9rMpqTcZ3Y8/yUzm52SfqKZPROvudkadFj3Qw89xPTp03ulXX311SxYsKBGORKRupRIhCCxZ0/Y37ULOjt7n7NgQb8abPhPwC/d/f3ACcBzwDxgpbtPBFbGfYAZwMT4mgMsADCzw4DrgJOBk4DrkoEnnnNFynW9f4lFRPqbTZtgxoywPX16KI0kDR7cf6qzzOxdwMeAWwHcfbe7/x44D1gUT1sEnB+3zwNu9+Ax4BAzSwBnAyvcfau7bwNWANPjsRHu/piH3gG3p9xLRKR/WroUxo4N27/8ZSiNJO3dC3fcAVWc7buSJZHxwGbg38xstZn9wMwOBEa5e1c851VgVNweA7yccn1nTMuV3pkhfT9mNsfM2sysbfPmzRkzW++91Oo9fyJSRYPy/HT3h5IIYSDjFGCBu08G3qan6gqAWIKo+K+juy9091Z3bx05cuR+x4cPH86WLVvq9oc6uZ7I8OHDa50VEam15ubQ7pHNqFHZj1VAJUesdwKd7v543L+bEEQ2mVnC3btildRr8fhGYGzK9S0xbSNwelr6wzG9JcP5RWtpaaGzs5NspZR6kFzZUEQGuPZ2GD06+/FNm8J0TH0Yu1aMig42NLNHgT929xfM7DvAgfHQFnf/npnNAw5z92vN7BPAV4BzCI3oN7v7SbFhfRWhVAPwa+BEd99qZk8AVwOPA8uB77v78lx5yjTYUESkYaRPvZRLmQYd5hpsWOm5s74K3GFmQ4F24HJCFdpdZvZFYANwYTx3OSGArAP+EM8lBosbgCfjede7+9a4PRe4DWgG7osvEZH+q5AA0tQEM2fCjTdWPDua9kREpFF0dcEnPgFPP515upN0/aAkIiIi5TJ2bGHBI6kKvbQ07YmISL1LzplVTACBMMK9whRERETqXfqcWYUq9vwSKIiIiNS79DmzClWF6QQVREREGsGmTfuvp55P6pQoFaKGdRGRelfM2JCkpib49a8rk58UKomIiNS7UoZidHfDySeXPy9pFEREROpdRwccfXTh55uFMSLq4isiIiQSYZr3Ylx+eVVWOFQQERFpBJMnh3aOQrjnnum3jBREREQawdKl8OCDhZ377nfDU09VNj+RemeJiDSCYmfvPf74yuYnUklERKQRtLcXvuDU+vUh6FSBgoiISCNIJApvE4HSugWXQEFERKRR7N7ds50slWQrcezaVZXSiIKIiEijOPHEnu0tW8L7jh0wKO2n3AxmzdI4ERERSXHkkTBkSNhOHTeyb1/PtlmoyhoxQuNEREQkxR13ZJ/Jd3DsbOsO554Lr75alSypi6+ISL0rpHtvasnkq1+F//7fK5unSCUREZF6V2xPq7POUhdfERGJ8k3AmN6wfsYZVWlUBwUREZH6l28CxtSGdQjTo4wfX9k8RRUNIma23syeMbM1ZtYW0w4zsxVm9lJ8PzSmm5ndbGbrzOxpM5uScp/Z8fyXzGx2SvqJ8f7r4rWVXwtSRKQWJk+Gs8/undbUFEodqVVXTU3Q0tKvSiIfd/dJ7t4a9+cBK919IrAy7gPMACbG1xxgAYSgA1wHnAycBFyXDDzxnCtSrpte+ccREamB++6D++/vndbdDf/n/8BFF/VO27QJXnutKtmqRXXWecCiuL0IOD8l/XYPHgMOMbMEcDawwt23uvs2YAUwPR4b4e6PubsDt6fcS0Skf2lvh49+tHfaxImh0f2223qn79kDJ5xQlWxVOog48ICZrTKzOTFtlLt3xe1XgeSMYmOAl1Ou7YxpudI7M6Tvx8zmmFmbmbVt3ry5L88jIlIbo0fDo4/2TnvppdAecsklma8xC68KqnQQOdXdpxCqqr5sZh9LPRhLEBWfJczdF7p7q7u3jhw5stIfJyJSfqtX7582bFhYN2TEiMzXjBtX8XVFKjrY0N03xvfXzGwZoU1jk5kl3L0rVkklK+42AmNTLm+JaRuB09PSH47pLRnOFxHpX7INNty1C04+OftAxPXrw/EdOyqWtYqVRMzsQDM7OLkNTAOeBe4Fkj2sZgP3xO17gctiL62pwBux2ut+YJqZHRob1KcB98djb5rZ1Ngr67KUe4mI9B+5BhvmGsk+fHjFe2lVsiQyClgWe90OBn7s7r80syeBu8zsi8AG4MJ4/nLgHGAd8AfgcgB332pmNwBPxvOud/etcXsucBvQDNwXXyIi/UtHR2gTySY52NAs9M5KtoVcfnnFJ2E0r9LCJfWitbXV29raap0NEZHiHHBA5mqpgw+GU08Ngwuffx4efjgEjvPPh66usDZ7H5nZqpRhGr1oAkYRkXqWb/LF7m5YvrxnP5GAT34S5s+vfN7QtCciIvUtV23RUUftP4rdDO65p2pTwSuIiIjUs46O7GM9fve7MJI91bHHhhHr8+ZlvqbMFEREROpZIgFjMo6jhk9/uqf3VXNzCDYrV4b9RYvCfoWnhFebiIhIPcvVJjJqVE/vq2zVXhXuPKWSiIhIPcsVBBYs6KnqyrTmyMSJYcBhBSmIiIjUs1wLUqVOa5K65khy3MjevRUfJ6LqLBGRepZrQaoDD4Tjj+/ZnzwZ3n4bjjkmzOLb1ZX5ujJSEBERqXeTJ2eullq7NrSZJAchLl0Kp5wSBiZqnIiIiNDcDMuWZT42a9b+c2MNHpx7Kd0yUxAREaln7e37rxfS1BQa1EeM2L/N46ab4MYbq5Y9VWeJiNSzRCIEi2QvLPcwPmTkyMxtHi0tMHMm3HlnxRvVQSUREZH6t2kTXHVVWJhq7txQXTV/fubJFefODSsgXn99VbKmWXxFRBpBe3voefXBD2Y+nm1Q4vDhfV6UKtcsviqJiIg0guuuC9O7Z5PedtLUlLnhvczUJiIi0gi6u3sGEWYyYULvkkh3N9xxB/z0p425PK6IiJTRvn2hdJFNe3toVE82wA8eHPYrXBJREBERaQT79uUuiSQXo0q2c+/bB5/6lKY9ERER8ldnQejF9fnPwyc+EXpoadoTEREB4E//FN58M/c5qV1+Z86sbH4iVWeJiNSrri447bSw1O2pp8I55+S/5he/gPe9T8vjiogMeDfcAL/6VRg4+PTTUMgYt299C158MVyTGoQqpOKDDc2sCWgDNrr7J81sPLAEOBxYBVzq7rvNbBhwO3AisAW4yN3Xx3t8E/gi0A1c7e73x/TpwD8BTcAP3P17+fKjwYYiUveyDRw0Cw3mxVwDMHs23HZbydmp9WDDa4DnUvb/BvgHdz8a2EYIDsT3bTH9H+J5mNmxwEzgOGA6cIuZNcXgNB+YARwLXBzPFRFpbMmBg8kuvU1NoffVCSfkvyaTCq63XtEgYmYtwCeAH8R9A84A7o6nLAKSQzDPi/vE42fG888Dlrj7LnfvANYBJ8XXOndvd/fdhNLNeZV8HhGRqpgwAX7849AjC8J7V1fPKoaZJCdqzKUCNU95g4gFnzezb8f9o8zspALv/4/AtUCy/HU48Ht3T0523wmMidtjgJcB4vE34vnvpKddky090zPMMbM2M2vbvHlzgVkXEamR5MDBVEOGhJUMc7VvbNrUU3pJ7w5cofXWCymJ3AKcAlwc998iVCPlZGafBF5z91WlZ6883H2hu7e6e+vIkSNrnR0RkdwmTIDOzt5pe/bA9u0wb17265YuhZUr4f3v37/tpELrrRcyTuRkd59iZqsB3H2bmQ0t4LqPAOea2TnAcGAEoRH8EDMbHEsbLcDGeP5GYCzQaWaDgXcRGtiT6Ump12RLFxFpXO3tMHp05mOLFoVXptl5czWud3T0Xkq3TAopieyJjdgOYGYj6ameysrdv+nuLe4+jtAw/qC7zwIeAj4bT5sN3BO37437xOMPeug6di8w08yGxZ5dE4EngCeBiWY2Pga1mfFcEZHGlkjApZfmPidT+0Z7O4watX/6oEFhIasKzKNVSEnkZmAZcKSZfZfwA/8XffjMbwBLzOyvgNXArTH9VuDfzWwdsJUQFHD3tWZ2F/AbYC/wZXfvBjCzrwD3E7r4/tDd1/YhXyIi9WP79uzHJk6ERx7ZPz1b6WXfvhBcKlCdVdA4ETN7P3AmYMBKd38uzyV1S+NERKTu5aqWSspUnbViBUybVtw1BejTOBEzm0oYKDjf3f8Z2GhmJxedCxERKUxyzMeQIfsfM8s+xftZZ+W+by26+AILgNRy1faYJiIilZAc87Fnz/7H3EPPrfHj9z+WbzBhBbr4FtImYp5S5+Xu+2LvKRERqYR81VktLfDkk8VdAyHw1KB3VruZXW1mQ+LrGqC9rLkQEZEe+aqdMpVECqmqqkDvrEKCyJXAhwljMDqBk4E5Zc+JiIgEHR09y9xmkqlNpKMDjj46930zVYH1Ud5qKXd/jdjdVkREqiCRyF2yyLTsbSIRRqVn09wcGuzLLGsQMbNr3f1vzez7xIGGqdz96rLnRkREgkGDMk/7PmhQ9vmzJk+G3/0u83U7doRAU2I332xylUSSY0E0qEJEpJqam7OvG7JvH9x3X+Zjy5blv3eZu/lmbRNx95/H6U4+6O6L0l9lzYWIiPRob4cZMzIfO+ec7A3kq1dnnvYk1a5dZV1XJGfDepxe5CNl+zQREckvkcg+Rcl73pP92KRJ+dcUgbKWRgoZ77HGzO4FfgK83ZMHX1q2XIiISG/Z2j1yrSeSq0dXhRTSxXc4YUr2M4BPxdcnK5kpEZEB71//NXP6smXZg8Xq1aGkUkWFdPG9vBoZERGRKFeJYtw4uOeezMcmTQqrH+ZywAHw29+WnLV0hUzAOMHMfm5mm83sNTO7J67rISIilbB6NYzJuNp3CBLHH5/92m3b4Ljjsh//wx9Cm0uZFFKd9WPgLiABjCa0jSwpWw5ERKS3SZNgaJYFZNeuzV1S6eoK5+SS7d4lKCSIHODu/+7ue+PrR4R2EhERqZRc81zlCgL52kVGjIANG0rPV5pCgsh9ZjbPzMaZ2XvM7FpguZkdZmaHlS0nIiISxnDkKmkcfHDuIJCvXWTv3rKucFhIF98L4/uX0tJnEqZDmVC23IiIDHTt7fBnfwaLF2cez/HWW/nn1tq2LQSiTOfkmy6+SIX0zlIjuohItUyYkP+HPl+bxiuvhDmydu3a/1im1RL7oJDqLBERqZZ8M+3mq86qMgUREZF6kkjApZdmP97dXdY2jb5SEBERqTfbt2cOFGPHwtlnF3aPjo79G9gPPLDs66wXMtjQzOzzZvbtuH+UmZ1UwHXDzewJM3vKzNaa2f+M6ePN7HEzW2dmd5rZ0Jg+LO6vi8fHpdzrmzH9BTM7OyV9ekxbZ2bzin98EZE6tHQpbNq0f/rLL2efBj5dIgEjR4btZBvKkUeWvRRTSEnkFuAU4OK4/xYwv4DrdgFnuPsJwCRguplNBf4G+Ad3PxrYBnwxnv9FYFtM/4d4HmZ2LKEn2HHAdOAWM2uK09TPB2YAxwIXx3NFRBrfX/xF5vSdOwufyn3yZJg7F554IrxPmlS+/EWFdPE92d2nmNlqAHffliw95OLuDmyPu0PiywkTOV4S0xcB3wEWAOfFbYC7gX82M4vpS9x9F9BhZuuAZElonbu3A5jZknjubwp4JhGR+pYpUAweDBddBDfeWNg9lqZMtj6/kL/9i1dISWRP/KvfAcxsJJBlya3eYolhDfAasAL4LfB7d08uBNwJJCeIGQO8DBCPvwEcnpqedk22dBGRxvee98CwYXDMMWHMR1NTGCg4YkTDNazfDCwDjjSz7wK/Av66kJu7e7e7TwJaCKWH95ea0b4wszlm1mZmbZs3b65FFkREivOzn4VxHm+/DVddBatWhSqpXOuJ1EAhgw3vMLNVwJmAAee7+3N5Lku/x+/N7CFC28ohZjY4ljZagI3xtI3AWKDTzAYD7yKsY5JMT0q9Jlt6+ucvBBYCtLa2lneBYRGRcmpu7j3YcONGuOUW+OEPYceO2uUri0J6Z70X6HD3+cCzwFlmdkgB141MnmdmzcBZwHPAQ8Bn42mzgeTE+PfGfeLxB2O7yr3AzNh7azwwEXgCeBKYGHt7DSU0vt9bwDOLiNSvbKPVyzxdSbkUUp31U6DbzI4G/oXw1/+PC7guATxkZk8TfvBXuPsvgG8AX4sN5IcDt8bzbwUOj+lfA+YBuPtawlT0vwF+CXw5VpPtBb4C3E8ITnfFc0VEGtfq1XDQQb3TDjoInnqqNvnJwzzPgu1m9uvYO+taYIe7f9/MVrv75OpksbxaW1u9ra2t1tkQEcluxIgw0WLSwQfDm2/WLDtmtsrdWzMdK6SL7x4zuxi4jLC+OoTuuiIiUgkHHQR79oReWUcdVdMAkk8h1VmXExrEv+vuHbFd4t8rmy0RkQHslVdCA/uOHTB1ativU3mrswBiw/UxcfcFd99T0VxVkKqzRKSupffOSho+vGa9s/pUnWVmpxNGlq8ndPEda2az3f2RcmZSRETIvthUAX/w10Ih1Vl/D0xz99Pc/WPA2YS5rUREpNw6OuDoo3unTZxY9tl3y6WQhvUh7v5CcsfdXzQzNayLiFTC6NH7p730Uv4lcWukkJJIm5n9wMxOj69/BdSoICJSCatXhzmzUjU31+04kUKCyFWEgX5Xx9dvYpqIiJTbpEkwJm0u2QkT4Pjja5OfPAqZO2sXcFN8iYhIpSXHhYwZE8aMbN1a2/zkkLUkYmbPmNnT2V7VzKSIyICydi185CNhfMgZZzTmOBEze0+uC919Q0VyVGEaJyIida3BxonkahMZArS4+4bUF2HK9UJ6dYmISLHa2+GjH+3ZP+AAmDUrdP2tQ7mCyD8CmSZseTMeExGRcksk4L/+q2d/5866W80wVa4gMsrdn0lPjGnjKpYjEZGByiy8urt70vbtgwULapenPHIFkVwLT2VYQV5ERPpkSJZx3NnS60CuINJmZlekJ5rZHwOrKpclEZEBak+WuW2zpdeBXA3kfwIsM7NZ9ASNVmAocEGlMyYiIvUvaxBx903Ah83s48B/i8n/4e4PViVnIiIDzerVMDnDorF1OuUJFDZi/SHgoSrkRURkYJs0CZqaejesDx5ct1OegMZ7iIjUl5Ej4dVXw/thh9X10rhQ2ASMIiJSLc8+G95ff73upzwBBRERkfrR3AxHHBG23cP4ELOQXqcURERE6kV7O5x7bs9+nU95AhUMImY21sweMrPfmNlaM7smph9mZivM7KX4fmhMNzO72czWxZmCp6Tca3Y8/yUzm52SfmKcbXhdvNYq9TwiIhWXSMCRR4bSx7BhdT/lCVS2JLIX+B/ufiwwFfiymR0LzANWuvtEYGXcB5gBTIyvOcACCEEHuA44GTgJuC4ZeOI5V6RcN72CzyPSOLq64LTTQgOtNI6uLli2DC67DB5/HK68su6/w4oFEXfvcvdfx+23gOeAMcB5wKJ42iLg/Lh9HnC7B48Bh5hZAjgbWOHuW919G7ACmB6PjXD3xzzMZ397yr1EBrZ58+CRR8K7NI4rroAtW2DRInjgAZg/H5YurXWucqpKm4iZjQMmA48TJnbsiodeBUbF7THAyymXdca0XOmdGdIzff4cM2szs7bNmzf36VlE6lpzc6gKuf32sL9oUd03zAo939t//EdP2rXXNsT3VvEgYmYHAT8F/sTde3V4jiWIzKtilZG7L3T3VndvHTlyZKU/TqR2siwylzVd6kOmRaiS6XXe1FvRIGJmQwgB5A53T5bJNsWqKOL7azF9IzA25fKWmJYrvSVDuohI48hX2li4sDr5KFEle2cZcCvwnLvflHLoXiDZw2o2cE9K+mWxl9ZU4I1Y7XU/MM3MDo0N6tOA++OxN81savysy1LuJTIwdXSEbqGpDjwQ1q+vSXakANlKIUlz5lQnHyWq5LQnHwEuBZ4xszUx7VvA94C7zOyLwAbgwnhsOXAOsA74A3A5gLtvNbMbgCfjede7+9a4PRe4jbC+yX3xJTJwJRJh7qVURx5Z111EpbGZD7C60tbWVm9ra6t1NkTKr7k5+1+1Tz1V15P4DWhr1mSeuTdp6FDYtat6+cnAzFa5e2umYxqxLtJftLdnP3bCCdXLhxQnVwAB2LChOvkokYKISH+RSOTuyZNcv1vqywMPZD/W3Fz3VZEKIiIDxbhxdb240YB11lnZj+3YUb18lEhBRKS/aG7OPR7kwAPVLlKPcnXxbYCgryAi0l/kahMBWLu2IUZADyhm2TtDvO99DRH0FURE+otEAj7zmezHBw2q6ynFJU2dr2iYpCAi0p/s25f7WJ030g44Q4dmTjer+xUNk7TGukh/kWucSOo5DdBYOyA0N8Pu3ZmPNdD4PZVERPqLQn54du5Uu0i9aG+HD38487Gf/KS6eekDBRGR/qKjA44+Ovc5Z56pdpF6kUiEhacyufTS6ualDxRERPqLRAL27s19zsqVMNuI1VkAABAvSURBVH58dfIj+U2bljm9gQK92kRE+otC2kSgoX6g+rVs31dTU0N1gFBJRKS/aG+HSy7Jf14iUfm8SH7ZAn53d3Xz0UcKIiL9RSIBI0bkP2/IkMrnpRq6uuC00+DVV2udkwFNQUSkP9m0CY44IvtEi2bwu99VN0+V8rWvwSOPwKRJjRdIck2EObixWhkURET6k6VLYcuW3GutJxKN3c23uTn8CC9ZEvY3barvZyq2xPTyy5XNT5kpiIj0N+99bxgJPSjD/96DBsGsWY3duJ4tQO7cGYLL3XdXNz+5rFkDo0eHEtPo0dDaGoLJ4sXZr2mgRnVQEBHpfzZvDiOh9+2D4cN7H9u3L7SbPPNMqDZ58MHa5LEv8gXAQjoXVENzc+8Fp9xh1SoYMwZmzsx8zQUXVCdvZaTlcUX6i0K7+KY69FDYurUy+amUYhbWqtXvW6mLfw0fXpfT0mh5XJGBoJQfzG3bGm/Fw1wrATa6Yv8IqAMKIiISRrI3inPPLfzcRuvO3ACLUKVTEBHpL3btKv3aM88sXz4qqdgqu717S5uHasmSwhvp03tf9aVU1wCLUKWrWBAxsx+a2Wtm9mxK2mFmtsLMXorvh8Z0M7ObzWydmT1tZlNSrpkdz3/JzGanpJ9oZs/Ea242a6TyuEgFrF5d+rXJdS3qfQBfKVV2P/pR8T/sycDzuc9lDyRr1sAhh8A118Cjj8KUKT09rzL1jMvniCOKv6YOVLIkchswPS1tHrDS3ScCK+M+wAxgYnzNARZACDrAdcDJwEnAdcnAE8+5IuW69M8SGTjSewIVyywEkOOOC91R58wpX97KqaMDxo0r7Vqz/AEy2T6UOpHl5z6XOQhNmQJvvBGmbXcP//0SCbj44jD/VbE2by7+mjpQsSDi7o8A6d0+zgMWxe1FwPkp6bd78BhwiJklgLOBFe6+1d23ASuA6fHYCHd/zEP3sttT7iUy8PS1QXbXrjCOYdu2sP/zn4cfznobwDdhAqxfX/r1jzwSfui/9KXir00GkmSgyVUq2rOnuHs38Hxm1W4TGeXuXXH7VWBU3B4DpA7T7IxpudI7M6RnZGZzzKzNzNo2N2i0F8kp2zKrQ4eGZVbzrTOSTb31FipXl92FC/cfQ1NowMz237ovGmQp3Exq1rAeSxBV6cTt7gvdvdXdW0eOHFmNjxSprlxzZSUS8Nvflv/etdCXzgOZ7pX6bIUEzOSUK+WSSDTUUriZVDuIbIpVUcT312L6RmBsynktMS1XekuGdJGBqaNj/3r4pqZQ9ZOv6iWf1L+8673hvRTFBIadO0sPZDNmwNy5oUF+7twwOr2BSyBJ1Q4i9wLJHlazgXtS0i+LvbSmAm/Eaq/7gWlmdmhsUJ8G3B+PvWlmU2OvrMtS7iUy8EyYsP86FN3dYRXDvla/7N7ds33DDT3tCjfe2Lf7FqPYAZHFnFutKrvly2H+fDjhhPC+dGl1PrfCKjbnsJktBk4HjjCzTkIvq+8Bd5nZF4ENwIXx9OXAOcA64A/A5QDuvtXMbgCejOdd7+7Jxvq5hB5gzcB98SUyMGX7Idy5E4YN6/v9M/0of/3r8Jd/WR/TdEybFrrbPvlkmBp+2bLKfM6IEfDmm8Vf14BzYhVKc2eJNLpcf3UPHRqqtEaPrmwepk4NP9zlnoG20BJF+u9YPbXjQMO3e2juLJGBasOGygcQgMceg3nz8p9XrFKr4voy8LJUxx3X01Ce/urHFEREGlm+v7jf/e7wg1qN8R6LFvW0XZRrivlCxoRkmvdr0qS+f/awYcUFsWef7RcN5cVSEBHpr2bMCO+nnFL9doszz+wJKH1ZKKqQUtQZZ2ROTyT6Vq21c2cYuV7IFCYNOHFiuSiIiDSqfKWLhx4K7+3t+w+sS9+vtFmzSrsuVylqyJDcnQZeeSUswuUOxx5b3Oeeemp4Hzo03COfBpw4sVwUREQaVb669uTxRAK+8IXwF/Xw4eH98svhf/2vimfxHbt3l7ZuSa5S1O7dhXfP3bYttFnceWdh5z/6aHgvpD3j0EPzn9OPKYiINCKz3IPejjqqd3vCpk1w5ZWhAfzKK8NgwWwN4YMHw4c/XNbsvuMnPynu/HKN4XjlldBmceGFofSSa52R1NJNIQMLG21lyDJTF1+RRlTIX/SFLLWavM9BB8H27WE7kQg/upXoJlvo8q9r1uSflbivv12jR8Nhh8G3vw3XXx+CQXrD+LBhvQdbphs0aP9Bnv1Qri6+FRtsKCJltmYNnH56YT/CLS1h4F0+uX6Ihw0r71xVUHjJIl8AKUdDdmrAuPDC/Y/nC6JdXeUfF9OAVJ0l0gi6uuBDHwrrV+zeDccck/1cM/jUp/r+A7dzZ+6eSVOnhqovgDFjwgtCWrZZg/NVZxXablKNhux83XsVQACVRETqX6Yf1RdfzH7+VVeFoFMO3d3w6U+HKq45c8IU6l1d+ed9ytaj6uKL4Y/+KATBX/yi54e4qwtmziwsT9VqyM4VzOptRHwNqU1EpJ4Vu6b4BRfUx8R+XV35x3iYhSq6448PqwQWOsq8Wr9ZXV2hWjC9i+/BB4cgPoBKImoTEWlEpfy1Ww8BBApbqc89zGhbjFLWLi9VIrF/LzcIpbMBFEDyURARqVdDh+buGZQu0/Qf/cXChXDFFdX/3MmTQzD/0IfCfnKWYHmHqrNE6kFXF3z84/DCC6Hx+bOfLb4kUm//Ly9ZEtpAyqHenm2A0Sy+IvXuootCAAH43OeKDyDlWDOk3AptKJeGpuoskVoqtuE82z3+8Ify5KfcBg0qbO6pXFQKqWsqiYjUUjmm9Zg+ve/3qJTu7uIbwy+4YMCsxdEfKIiI1EqpYw3mzg1dY+fOrZ8uvbkkA8nQoXDNNeF90KAQIC64oPGeR3pRw7pIJS1YEH4ck2bNgjvuKP1+A+z/V6kPalivVytW9F645/Of771/4421zqEUoqsLjjyy93eXfKUGEOhbABGpQwoitdLVBWef3Tst/Qfm61/P/MN06aXh+tNOC1N6r1kT5ivKdG7qa9Cg8i1b2qjWrIGmpvz/rYp5jR4NmzdXNt/DhqkUInVJ1VnVVsgU1zJwDRoEo0bln6JcpIr69bQnZjYd+CegCfiBu3+vIh/0rW9VdyU4GZjS16bINEW5SB1p6OosM2sC5gMzgGOBi82syMWUC6QAIpWU7K0k0mAaOogAJwHr3L3d3XcDS4DzyvoJpawLLVKo5FiIAbA6nvRPjR5ExgAvp+x3xrRezGyOmbWZWdvmYhtAv/nNPmVQBqAZM3q2UwfNZXqJNLhGDyIFcfeF7t7q7q0jR44s7uK//uvKZCpd+oCrvvzg6IeqcPl+5Et5LV+u//YyYDR6w/pGYGzKfktMaxzpI3Tnz89+bqk/Sn35Mfv0p0NwS58KW6OKRYTGDyJPAhPNbDwheMwELin7pwzkvygVLEQkh4YOIu6+18y+AtxP6OL7Q3dfW+NsiYgMGA0dRADcfTmwvNb5EBEZiAZEw7qIiFSGgoiIiJRMQUREREqmICIiIiUbcLP4mtlmYEOJlx8BvF7G7NRSf3mW/vIcoGepV3oWeI+7ZxypPeCCSF+YWVu26ZAbTX95lv7yHKBnqVd6ltxUnSUiIiVTEBERkZIpiBRnYa0zUEb95Vn6y3OAnqVe6VlyUJuIiIiUTCUREREpmYKIiIiUTEGkAGY23cxeMLN1Zjav1vkphJmtN7NnzGyNmbXFtMPMbIWZvRTfD43pZmY3x+d72sym1DjvPzSz18zs2ZS0ovNuZrPj+S+Z2ew6epbvmNnG+N2sMbNzUo59Mz7LC2Z2dkp6Tf8NmtlYM3vIzH5jZmvN7JqY3nDfS45nacTvZbiZPWFmT8Vn+Z8xfbyZPR7zdaeZDY3pw+L+unh8XL5nzMvd9crxIkwx/1tgAjAUeAo4ttb5KiDf64Ej0tL+FpgXt+cBfxO3zwHuAwyYCjxe47x/DJgCPFtq3oHDgPb4fmjcPrROnuU7wJ9lOPfY+O9rGDA+/rtrqod/g0ACmBK3DwZejPltuO8lx7M04vdiwEFxewjwePzvfRcwM6b/b+CquD0X+N9xeyZwZ65nLCQPKonkdxKwzt3b3X03sAQ4r8Z5KtV5wKK4vQg4PyX9dg8eAw4xs0QtMgjg7o8AW9OSi8372cAKd9/q7tuAFcD0yue+tyzPks15wBJ33+XuHcA6wr+/mv8bdPcud/913H4LeA4YQwN+LzmeJZt6/l7c3bfH3SHx5cAZwN0xPf17SX5fdwNnmpmR/RnzUhDJbwzwcsp+J7n/wdULBx4ws1VmNiemjXL3rrj9KjAqbjfCMxab93p/pq/Eap4fJquAaJBniVUgkwl/9Tb095L2LNCA34uZNZnZGuA1QlD+LfB7d9+bIV/v5DkefwM4nD48i4JI/3Wqu08BZgBfNrOPpR70UIZtyP7djZz3aAHwXmAS0AX8fW2zUzgzOwj4KfAn7v5m6rFG+14yPEtDfi/u3u3uk4AWQunh/dX8fAWR/DYCY1P2W2JaXXP3jfH9NWAZ4R/XpmQ1VXx/LZ7eCM9YbN7r9pncfVP8H38f8K/0VBvU9bOY2RDCj+4d7r40Jjfk95LpWRr1e0ly998DDwGnEKoPkyvXpubrnTzH4+8CttCHZ1EQye9JYGLs7TCU0Bh1b43zlJOZHWhmBye3gWnAs4R8J3vDzAbuidv3ApfFHjVTgTdSqijqRbF5vx+YZmaHxmqJaTGt5tLamy4gfDcQnmVm7EEzHpgIPEEd/BuM9ea3As+5+00phxrue8n2LA36vYw0s0PidjNwFqGN5yHgs/G09O8l+X19FngwliCzPWN+1exJ0KgvQk+TFwl1jX9e6/wUkN8JhJ4WTwFrk3km1H2uBF4C/hM4LKYbMD8+3zNAa43zv5hQnbCHUDf7xVLyDvwRoYFwHXB5HT3Lv8e8Ph3/502knP/n8VleAGbUy79B4FRCVdXTwJr4OqcRv5ccz9KI38vxwOqY52eBb8f0CYQgsA74CTAspg+P++vi8Qn5njHfS9OeiIhIyVSdJSIiJVMQERGRkimIiIhIyRRERESkZAoiIiJSMgURkSoxsz+PM60+HWeJPdnMHrY4y3I8p9XMHq5hNkWKMjj/KSLSV2Z2CvBJwuyxu8zsCMLMrwBHmtkMd7+vdjkUKY1KIiLVkQBed/ddAO7+uru/Eo/9HWGgVy9xrYh/s7AuzGoz+3gV8ytSEAURkep4ABhrZi+a2S1mdlrKsf8H7M4QJL5MmNfwg8DFwCIzG16l/IoUREFEpAo8rPlwIjAH2AzcaWZfSDnlr4C/SLvsVOBH8frngQ3AMRXPrEgRFEREqsTDDLEPu/t1wFeAz6QcexBoJqxKJ9IwFEREqsDM3mdmE1OSJhFKFqn+Crg2Zf9RYFa8/hjgKMLkeCJ1Q0FEpDoOIrRp/MbMnqZnTe93uPtyQlVX0i3AIDN7BrgT+EKyYV6kXmgWXxERKZlKIiIiUjIFERERKZmCiIiIlExBRERESqYgIiIiJVMQERGRkimIiIhIyf4/dRCFP+G0YEEAAAAASUVORK5CYII=\n"
          },
          "metadata": {
            "needs_background": "light"
          }
        }
      ]
    }
  ]
}
