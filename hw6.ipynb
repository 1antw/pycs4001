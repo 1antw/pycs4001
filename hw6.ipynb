{
  "nbformat": 4,
  "nbformat_minor": 0,
  "metadata": {
    "colab": {
      "name": "hw6.ipynb",
      "provenance": [],
      "collapsed_sections": [],
      "mount_file_id": "1_2cdFoFqjV_jfXwZSZE1VndBuSv9URDm",
      "authorship_tag": "ABX9TyNPQoCaFTx3cxh/Eif/IjwZ",
      "include_colab_link": true
    },
    "kernelspec": {
      "name": "python3",
      "display_name": "Python 3"
    },
    "language_info": {
      "name": "python"
    }
  },
  "cells": [
    {
      "cell_type": "markdown",
      "metadata": {
        "id": "view-in-github",
        "colab_type": "text"
      },
      "source": [
        "<a href=\"https://colab.research.google.com/github/1antw/pycs4001/blob/main/hw6.ipynb\" target=\"_parent\"><img src=\"https://colab.research.google.com/assets/colab-badge.svg\" alt=\"Open In Colab\"/></a>"
      ]
    },
    {
      "cell_type": "code",
      "execution_count": null,
      "metadata": {
        "colab": {
          "base_uri": "https://localhost:8080/",
          "height": 285
        },
        "id": "2fhpHbSheGQH",
        "outputId": "62b0e1b9-77d5-463f-e4b5-6eaa309d5d45"
      },
      "outputs": [
        {
          "output_type": "stream",
          "name": "stdout",
          "text": [
            "evaluation MSE: 0.011236354113588634\n"
          ]
        },
        {
          "output_type": "display_data",
          "data": {
            "text/plain": [
              "<Figure size 432x288 with 1 Axes>"
            ],
            "image/png": "[encoded data removed]"
          },
          "metadata": {
            "needs_background": "light"
          }
        }
      ],
      "source": [
        "import numpy as np\n",
        "import matplotlib.pyplot as plt\n",
        "import pandas as pd\n",
        "from sklearn import datasets\n",
        "from sklearn.model_selection import train_test_split\n",
        "from sklearn.linear_model import LinearRegression\n",
        "from sklearn.metrics import mean_squared_error\n",
        "from sklearn.preprocessing import StandardScaler\n",
        "\n",
        "data = pd.read_csv(\"/Salary_Data.csv\")\n",
        "x = data[[\"Salary\"]]\n",
        "y = data[[\"YearsExperience\"]]\n",
        "\n",
        "scaler = StandardScaler()\n",
        "sc_x = scaler.fit_transform(x)\n",
        "sc_y = scaler.fit_transform(y)\n",
        "\n",
        "train_x, test_x, train_y, test_y  = train_test_split(sc_x, sc_y, test_size=0.2, random_state=10)\n",
        "\n",
        "regression = LinearRegression()\n",
        "regression.fit(train_x, train_y)\n",
        "y_p = regression.predict(test_x)\n",
        "Y_pred = regression.predict(sc_x)\n",
        "\n",
        "print(f\"evaluation MSE: {mean_squared_error(test_y, y_p)}\")\n",
        "\n",
        "plt.scatter(sc_x, sc_y, s = 3)\n",
        "plt.plot(sc_x, Y_pred, color = 'red')\n",
        "plt.show()"
      ]
    }
  ]
}